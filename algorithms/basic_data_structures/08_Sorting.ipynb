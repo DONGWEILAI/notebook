{
 "cells": [
  {
   "cell_type": "markdown",
   "id": "cf12eda8",
   "metadata": {},
   "source": [
    "# 08 Sorting"
   ]
  },
  {
   "cell_type": "markdown",
   "id": "ff8825c4",
   "metadata": {},
   "source": [
    "**Bubble Sort**"
   ]
  },
  {
   "cell_type": "code",
   "execution_count": 8,
   "id": "289e6772",
   "metadata": {},
   "outputs": [],
   "source": [
    "def bubble_sort(li):\n",
    "    for i in range(len(li) - 1, 0, -1):\n",
    "        for j in range(i):\n",
    "            if li[j] > li[j+1]:\n",
    "                li[j], li[j+1] = li[j+1], li[j]\n",
    "    return li"
   ]
  },
  {
   "cell_type": "code",
   "execution_count": 16,
   "id": "1be46aeb",
   "metadata": {},
   "outputs": [],
   "source": [
    "li = [2,3,4,1,-3,-5,9]"
   ]
  },
  {
   "cell_type": "code",
   "execution_count": 7,
   "id": "1afe3102",
   "metadata": {},
   "outputs": [
    {
     "data": {
      "text/plain": [
       "[-5, -3, 1, 2, 3, 4, 9]"
      ]
     },
     "execution_count": 7,
     "metadata": {},
     "output_type": "execute_result"
    }
   ],
   "source": [
    "bubble_sort(li)"
   ]
  },
  {
   "cell_type": "markdown",
   "id": "98f967a2",
   "metadata": {},
   "source": [
    "**Selection Sort**"
   ]
  },
  {
   "cell_type": "code",
   "execution_count": 12,
   "id": "118d627b",
   "metadata": {},
   "outputs": [],
   "source": [
    "def selection_sort(li):\n",
    "    for i in range(len(li)):\n",
    "        min_index = i\n",
    "        for j in range(i+1, len(li)):\n",
    "            if li[j] < li[min_index]:\n",
    "                min_index = j\n",
    "        if i != min_index:\n",
    "            li[i], li[min_index] = li[min_index], li[i]\n",
    "    return li"
   ]
  },
  {
   "cell_type": "code",
   "execution_count": 13,
   "id": "420f2730",
   "metadata": {},
   "outputs": [
    {
     "data": {
      "text/plain": [
       "[-5, -3, 1, 2, 3, 4, 9]"
      ]
     },
     "execution_count": 13,
     "metadata": {},
     "output_type": "execute_result"
    }
   ],
   "source": [
    "selection_sort(li)"
   ]
  },
  {
   "cell_type": "markdown",
   "id": "14583131",
   "metadata": {},
   "source": [
    "**Insertion Sort**"
   ]
  },
  {
   "cell_type": "code",
   "execution_count": 19,
   "id": "f84c00f9",
   "metadata": {},
   "outputs": [],
   "source": [
    "def insertion_sort(li):\n",
    "    for i in range(1, len(li)):\n",
    "        temp = li[i]\n",
    "        j = i - 1\n",
    "        while temp < li[j] and j >= 0:\n",
    "            li[j+1] = li[j]\n",
    "            li[j] = temp\n",
    "            j -= 1\n",
    "    return li      "
   ]
  },
  {
   "cell_type": "code",
   "execution_count": 20,
   "id": "9cdad54c",
   "metadata": {},
   "outputs": [
    {
     "data": {
      "text/plain": [
       "[-5, -3, 1, 2, 3, 4, 9]"
      ]
     },
     "execution_count": 20,
     "metadata": {},
     "output_type": "execute_result"
    }
   ],
   "source": [
    "insertion_sort(li)"
   ]
  },
  {
   "cell_type": "markdown",
   "id": "85263bd6",
   "metadata": {},
   "source": [
    "**Merge Sort**"
   ]
  },
  {
   "cell_type": "code",
   "execution_count": 29,
   "id": "f1b42a45",
   "metadata": {},
   "outputs": [],
   "source": [
    "def merge(list1, list2):\n",
    "    combined = []\n",
    "    i = 0\n",
    "    j = 0\n",
    "    while i < len(list1) and j < len(list2):\n",
    "        if list1[i] < list2[j]:\n",
    "            combined.append(list1[i])\n",
    "            i += 1\n",
    "        else:\n",
    "            combined.append(list2[j])\n",
    "            j += 1\n",
    "    while i < len(list1):\n",
    "        combined.append(list1[i])\n",
    "        i += 1\n",
    "    while j < len(list2):\n",
    "        combined.append(list2[j])\n",
    "        j += 1\n",
    "    return combined"
   ]
  },
  {
   "cell_type": "code",
   "execution_count": 41,
   "id": "e48f53a0",
   "metadata": {},
   "outputs": [],
   "source": [
    "def merge_sort(my_list):\n",
    "    if len(my_list) == 1:\n",
    "        return my_list\n",
    "    mid_index = int(len(my_list) / 2)\n",
    "    left = merge_sort(my_list[:mid_index])\n",
    "    right = merge_sort(my_list[mid_index:])\n",
    "    return merge(left, right)"
   ]
  },
  {
   "cell_type": "code",
   "execution_count": 42,
   "id": "f83b09a2",
   "metadata": {},
   "outputs": [
    {
     "data": {
      "text/plain": [
       "[-1, 2, 3, 4, 5, 6]"
      ]
     },
     "execution_count": 42,
     "metadata": {},
     "output_type": "execute_result"
    }
   ],
   "source": [
    "merge([2,3,4], [-1,5,6])"
   ]
  },
  {
   "cell_type": "code",
   "execution_count": 43,
   "id": "03508b2a",
   "metadata": {},
   "outputs": [
    {
     "data": {
      "text/plain": [
       "[-99, -4, 1, 5, 12]"
      ]
     },
     "execution_count": 43,
     "metadata": {},
     "output_type": "execute_result"
    }
   ],
   "source": [
    "merge_sort([-4,5,1,12,-99])"
   ]
  },
  {
   "cell_type": "markdown",
   "id": "67e29175",
   "metadata": {},
   "source": [
    "**Quick Sort**"
   ]
  },
  {
   "cell_type": "code",
   "execution_count": null,
   "id": "70cd688c",
   "metadata": {},
   "outputs": [],
   "source": []
  },
  {
   "cell_type": "code",
   "execution_count": null,
   "id": "a91197b4",
   "metadata": {},
   "outputs": [],
   "source": []
  }
 ],
 "metadata": {
  "kernelspec": {
   "display_name": "Python 3",
   "language": "python",
   "name": "python3"
  },
  "language_info": {
   "codemirror_mode": {
    "name": "ipython",
    "version": 3
   },
   "file_extension": ".py",
   "mimetype": "text/x-python",
   "name": "python",
   "nbconvert_exporter": "python",
   "pygments_lexer": "ipython3",
   "version": "3.8.3"
  }
 },
 "nbformat": 4,
 "nbformat_minor": 5
}
