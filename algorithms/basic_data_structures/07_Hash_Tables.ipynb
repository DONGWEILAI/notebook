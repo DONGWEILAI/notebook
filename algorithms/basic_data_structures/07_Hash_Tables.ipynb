{
 "cells": [
  {
   "cell_type": "markdown",
   "id": "354d0fbc",
   "metadata": {},
   "source": [
    "# 07 Hash Tables"
   ]
  },
  {
   "cell_type": "code",
   "execution_count": 52,
   "id": "932f6e44",
   "metadata": {},
   "outputs": [],
   "source": [
    "class HashTable:\n",
    "    def __init__(self, size=7):\n",
    "        self.data_map = [None] * size\n",
    "        \n",
    "    def __hash(self, key):\n",
    "        my_hash = 0\n",
    "        for letter in key:\n",
    "            my_hash = (my_hash + ord(letter) * 23) % len(self.data_map)\n",
    "        return my_hash\n",
    "    \n",
    "    def print_table(self):\n",
    "        for i, val in enumerate(self.data_map):\n",
    "            print(i, val)\n",
    "    \n",
    "    def set_item(self, key, value):\n",
    "        index = self.__hash(key)\n",
    "        if self.data_map[index] is None:\n",
    "            self.data_map[index] = []\n",
    "        self.data_map[index].append([key, value])\n",
    "    \n",
    "    def get(self, key):\n",
    "        index = self.__hash(key)\n",
    "        data = self.data_map[index]\n",
    "        if data is not None:\n",
    "            for l in data:\n",
    "                if key == l[0]:\n",
    "                    return l[1]\n",
    "        return None\n",
    "            \n",
    "    def keys(self):\n",
    "        all_keys = []\n",
    "        for i in range(len(self.data_map)):\n",
    "            if self.data_map[i] is not None:\n",
    "                for inner_list in self.data_map[i]:\n",
    "                    all_keys.append(inner_list[0])\n",
    "        return all_keys"
   ]
  }
 ],
 "metadata": {
  "kernelspec": {
   "display_name": "Python 3",
   "language": "python",
   "name": "python3"
  },
  "language_info": {
   "codemirror_mode": {
    "name": "ipython",
    "version": 3
   },
   "file_extension": ".py",
   "mimetype": "text/x-python",
   "name": "python",
   "nbconvert_exporter": "python",
   "pygments_lexer": "ipython3",
   "version": "3.8.3"
  }
 },
 "nbformat": 4,
 "nbformat_minor": 5
}
