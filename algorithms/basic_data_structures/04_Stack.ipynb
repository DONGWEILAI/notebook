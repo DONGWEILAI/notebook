{
 "cells": [
  {
   "cell_type": "markdown",
   "id": "91ba47e0",
   "metadata": {},
   "source": [
    "# 04 Stack"
   ]
  },
  {
   "cell_type": "code",
   "execution_count": 1,
   "id": "277008fa",
   "metadata": {},
   "outputs": [],
   "source": [
    "class Node:\n",
    "    def __init__(self, value):\n",
    "        self.value = value\n",
    "        self.next = None"
   ]
  },
  {
   "cell_type": "code",
   "execution_count": 6,
   "id": "ef59c2a3",
   "metadata": {},
   "outputs": [],
   "source": [
    "class Stack:\n",
    "    def __init__(self, value):\n",
    "        newNode = Node(value)\n",
    "        self.top = newNode\n",
    "        self.length += 1\n",
    "        \n",
    "    def print_stack(self):\n",
    "        temp = self.top\n",
    "        while temp is not None:\n",
    "            print(temp.value)\n",
    "            temp = temp.next\n",
    "        \n",
    "    def push(self, value):\n",
    "        newNode = Node(value)\n",
    "        if self.height == 0:\n",
    "            self.top = newNode\n",
    "        else:\n",
    "            newNode.next = self.top\n",
    "            self.top = newNode\n",
    "        self.height += 1\n",
    "        \n",
    "    def pop(self):\n",
    "        if self.height == 0:\n",
    "            return None\n",
    "        else:\n",
    "            temp = self.top\n",
    "            self.top = temp.next\n",
    "            temp.next = None\n",
    "            self.length -= 1\n",
    "            return self.top"
   ]
  }
 ],
 "metadata": {
  "kernelspec": {
   "display_name": "Python 3",
   "language": "python",
   "name": "python3"
  },
  "language_info": {
   "codemirror_mode": {
    "name": "ipython",
    "version": 3
   },
   "file_extension": ".py",
   "mimetype": "text/x-python",
   "name": "python",
   "nbconvert_exporter": "python",
   "pygments_lexer": "ipython3",
   "version": "3.8.3"
  }
 },
 "nbformat": 4,
 "nbformat_minor": 5
}
