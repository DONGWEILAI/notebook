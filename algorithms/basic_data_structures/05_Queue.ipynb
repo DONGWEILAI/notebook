{
 "cells": [
  {
   "cell_type": "markdown",
   "id": "8e34d6e6",
   "metadata": {},
   "source": [
    "# 05 Queue"
   ]
  },
  {
   "cell_type": "code",
   "execution_count": null,
   "id": "ab8dcc82",
   "metadata": {},
   "outputs": [],
   "source": [
    "class Node:\n",
    "    def __init__(self, value):\n",
    "        self.value = value\n",
    "        self.next = None"
   ]
  },
  {
   "cell_type": "code",
   "execution_count": 3,
   "id": "93163502",
   "metadata": {},
   "outputs": [],
   "source": [
    "class Queue:\n",
    "    def __init__(self, value):\n",
    "        newNode = Node(value)\n",
    "        self.first = newNode\n",
    "        self.last = newNode\n",
    "        self.length += 1\n",
    "        \n",
    "    def enqueue(self, value):\n",
    "        newNode = Node(value)\n",
    "        if self.first is None:\n",
    "            self.first = newNode\n",
    "            self.last = newNode\n",
    "        else:\n",
    "            self.last.next = newNode\n",
    "            self.last = newNode\n",
    "        self.length += 1\n",
    "    \n",
    "    def dequeue(self):\n",
    "        if self.length == 0:\n",
    "            return None\n",
    "        temp = self.first\n",
    "        if self.length == 1:\n",
    "            self.first = None\n",
    "            self.last = None\n",
    "        else:\n",
    "            self.first = temp.next\n",
    "            temp.next = None\n",
    "        self.length -= 1\n",
    "        return temp"
   ]
  },
  {
   "cell_type": "code",
   "execution_count": null,
   "id": "0d39a826",
   "metadata": {},
   "outputs": [],
   "source": []
  }
 ],
 "metadata": {
  "kernelspec": {
   "display_name": "Python 3",
   "language": "python",
   "name": "python3"
  },
  "language_info": {
   "codemirror_mode": {
    "name": "ipython",
    "version": 3
   },
   "file_extension": ".py",
   "mimetype": "text/x-python",
   "name": "python",
   "nbconvert_exporter": "python",
   "pygments_lexer": "ipython3",
   "version": "3.8.3"
  }
 },
 "nbformat": 4,
 "nbformat_minor": 5
}
