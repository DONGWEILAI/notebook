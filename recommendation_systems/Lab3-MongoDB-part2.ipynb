{
 "cells": [
  {
   "cell_type": "markdown",
   "id": "bfc262ce",
   "metadata": {},
   "source": [
    "# COMP7095 - Big Data Management"
   ]
  },
  {
   "cell_type": "markdown",
   "id": "35dd1044",
   "metadata": {},
   "source": [
    "## Lab 3 MongoDB Part 2: MongoDB NoSQL + Python"
   ]
  },
  {
   "cell_type": "markdown",
   "id": "adfa3e6e",
   "metadata": {},
   "source": [
    "### Launching Jupyter Notebook\n",
    "We are going to switch the remaining parts to Jupyter Notebook. Let's try it with the following steps:\n",
    "\n",
    "1. Download the `ipynb version` of this lab.\n",
    "2. save it to the `comp7095` folder on the desktop.\n",
    "3. Launch the terminal (macOS) or command prompt (Windows).\n",
    "4. Run the followings commands:\n",
    "\n",
    "    macOS: \\\n",
    "    <code>cd Desktop/comp7095\n",
    "    source ./venv/bin/activate\n",
    "    jupyter notebook\n",
    "    </code>\n",
    "\n",
    "    Windows: \\\n",
    "    <code>cd comp7095\n",
    "    .\\venv\\Scripts\\activate\n",
    "    jupyter notebook\n",
    "    </code>\n",
    "    \n",
    "\n",
    "5. On the Jupyter home page, select the `ipnb version` of this lab to run it. Then, you will see this page in notebook format."
   ]
  },
  {
   "cell_type": "markdown",
   "id": "940bf247",
   "metadata": {},
   "source": [
    "## Starting MongoDB\n",
    "Next, we need to start the MongoDB.\n",
    "\n",
    "macOS:\n",
    "1. Launch a new terminal and run the following command: \\\n",
    "`brew services start mongodb-community@6.0`\n",
    "\n",
    "\n",
    "2. Wait for the respond to verify MongoDB is running.\n",
    "3. Leave the terminal aside.\n",
    "\n",
    "Windows:\n",
    "1. Launch a new Command Prompt and run the following command: \\\n",
    "`\"C:\\Program Files\\MongoDB\\Server\\6.0\\bin\\mongod.exe\" --dbpath=\"c:\\data\\db\"`\n",
    "\n",
    "\n",
    "2. Wait for the respond to verify MongoDB is running.\n",
    "3. Leave the Command Prompt aside."
   ]
  },
  {
   "cell_type": "markdown",
   "id": "f194295c",
   "metadata": {},
   "source": [
    "## Connecting MongoDB\n",
    "MongoDB is now running locally. We are going to use Python code to connect it."
   ]
  },
  {
   "cell_type": "markdown",
   "id": "deea8947",
   "metadata": {},
   "source": [
    "Import the required packages:\n",
    "- `MongoClient` is used to establish connect to MongoDB. With the client, we can insert, update, and delete the documents in MongoDB.\n",
    "- `pprint` provides a capability to “pretty-print” arbitrary Python data structures in a form which can be used as input to the interpreter."
   ]
  },
  {
   "cell_type": "markdown",
   "id": "76bd8615",
   "metadata": {},
   "source": [
    "First, we need to import the required packages."
   ]
  },
  {
   "cell_type": "code",
   "execution_count": 1,
   "id": "2c6e6ada",
   "metadata": {},
   "outputs": [],
   "source": [
    "from pymongo import MongoClient\n",
    "from pprint import pprint"
   ]
  },
  {
   "cell_type": "markdown",
   "id": "341e181c",
   "metadata": {},
   "source": [
    "To connect MongoDB, we need to use the `MongoClient` function with the connection string. The connection string - `mongodb://localhost:27017`, describes the protocol, host, and port. If you want to connect MongoDB running on another host, you should replace `localhost` with the IP address of the host."
   ]
  },
  {
   "cell_type": "code",
   "execution_count": 6,
   "id": "7ee50bf9",
   "metadata": {},
   "outputs": [],
   "source": [
    "client = MongoClient('mongodb://localhost:27017/')"
   ]
  },
  {
   "cell_type": "markdown",
   "id": "2d170f6e",
   "metadata": {},
   "source": [
    "You can check the existing databases by using the `list_database_names` function."
   ]
  },
  {
   "cell_type": "code",
   "execution_count": 7,
   "id": "f46f78fa",
   "metadata": {},
   "outputs": [
    {
     "data": {
      "text/plain": [
       "['admin', 'config', 'local', 'mydb', 'shopDB']"
      ]
     },
     "execution_count": 7,
     "metadata": {},
     "output_type": "execute_result"
    }
   ],
   "source": [
    "client.list_database_names()"
   ]
  },
  {
   "cell_type": "markdown",
   "id": "0999b8df",
   "metadata": {},
   "source": [
    "To switch database, we only need to provide the database name as follows:"
   ]
  },
  {
   "cell_type": "code",
   "execution_count": 8,
   "id": "a8d5157a",
   "metadata": {},
   "outputs": [],
   "source": [
    "db = client['mydb']"
   ]
  },
  {
   "cell_type": "markdown",
   "id": "a7436d0d",
   "metadata": {},
   "source": [
    "Let's use the `list_collection_names` function to see what collections the database has."
   ]
  },
  {
   "cell_type": "code",
   "execution_count": 9,
   "id": "6845acd3",
   "metadata": {},
   "outputs": [
    {
     "data": {
      "text/plain": [
       "['products']"
      ]
     },
     "execution_count": 9,
     "metadata": {},
     "output_type": "execute_result"
    }
   ],
   "source": [
    "db.list_collection_names()"
   ]
  },
  {
   "cell_type": "markdown",
   "id": "d2bcdb5e",
   "metadata": {},
   "source": [
    "Now, we are going to use the `products` collection."
   ]
  },
  {
   "cell_type": "code",
   "execution_count": 10,
   "id": "fca6f2fd",
   "metadata": {},
   "outputs": [],
   "source": [
    "products = db['products']"
   ]
  },
  {
   "cell_type": "markdown",
   "id": "143983cd",
   "metadata": {},
   "source": [
    "In the last lab, we use `mongosh` to create some documents in the `products` collection. Let's see whether we can get them back in Python.\n",
    "\n",
    "We call the `find` function, just like what we have done in `mongosh`. The output of the `find` function is in Cursor format. For convenience, we convert the output of the `find` function to a list."
   ]
  },
  {
   "cell_type": "code",
   "execution_count": 11,
   "id": "7338e7c4",
   "metadata": {
    "scrolled": true
   },
   "outputs": [
    {
     "name": "stdout",
     "output_type": "stream",
     "text": [
      "[{'_id': ObjectId('63fd894717191eaefaf3be4f'),\n",
      "  'name': 'apple',\n",
      "  'qty': 15,\n",
      "  'type': 'fruit'},\n",
      " {'_id': ObjectId('63fd89db17191eaefaf3be50'),\n",
      "  'name': 'orange',\n",
      "  'price': 8,\n",
      "  'qty': 13,\n",
      "  'type': 'fruit'},\n",
      " {'_id': 10, 'name': 'hard disk', 'qty': 10, 'type': 'it'},\n",
      " {'_id': 200, 'name': 'dragon fruit', 'price': 5, 'qty': 20, 'type': 'fruit'},\n",
      " {'_id': ObjectId('63fd8bd517191eaefaf3be51'),\n",
      "  'name': 'pear',\n",
      "  'qty': 20,\n",
      "  'type': 'fruit'},\n",
      " {'_id': ObjectId('63fd8bd517191eaefaf3be52'),\n",
      "  'name': 'watermelon',\n",
      "  'qty': 100,\n",
      "  'type': 'fruit'},\n",
      " {'_id': ObjectId('63fd90ad533c273c4e752e39'), 'name': 'mango', 'qty': 100}]\n"
     ]
    }
   ],
   "source": [
    "data = list(products.find())\n",
    "pprint(data)"
   ]
  },
  {
   "cell_type": "markdown",
   "id": "add214ff",
   "metadata": {},
   "source": [
    "The following two lines of code is used to delete some documents created by this notebook, just in case you ran this notebook previously."
   ]
  },
  {
   "cell_type": "code",
   "execution_count": 12,
   "id": "d4c3b602",
   "metadata": {},
   "outputs": [
    {
     "data": {
      "text/plain": [
       "<pymongo.results.DeleteResult at 0x7faf5356d430>"
      ]
     },
     "execution_count": 12,
     "metadata": {},
     "output_type": "execute_result"
    }
   ],
   "source": [
    "products.delete_one({'_id':12})\n",
    "products.delete_many({'type':'unknown'})"
   ]
  },
  {
   "cell_type": "markdown",
   "id": "54113447",
   "metadata": {},
   "source": [
    "With the argument, the `find` function filters the output as we want. For example, we want to get the documents about the IT products only. \n",
    "\n",
    "<i>Note that we need to add quotation marks to quote the keys mentioned in the argument. i.e., `'type'` in the following example.</i>"
   ]
  },
  {
   "cell_type": "code",
   "execution_count": 15,
   "id": "57b419de",
   "metadata": {},
   "outputs": [
    {
     "name": "stdout",
     "output_type": "stream",
     "text": [
      "[{'_id': 10, 'name': 'hard disk', 'qty': 10, 'type': 'it'}]\n"
     ]
    }
   ],
   "source": [
    "data = list(products.find({'type': 'it'}))\n",
    "pprint(data)"
   ]
  },
  {
   "cell_type": "markdown",
   "id": "e2833c34",
   "metadata": {},
   "source": [
    "## Insertion, Update, and Deletion\n",
    "\n",
    "Same as `mongosh`, `PyMongo` provides functions for manipulating the documents including insertion, update, and deletion.\n",
    "\n",
    "To insert a new document, we use the `insert_one` function."
   ]
  },
  {
   "cell_type": "code",
   "execution_count": 16,
   "id": "a9e661de",
   "metadata": {},
   "outputs": [
    {
     "data": {
      "text/plain": [
       "<pymongo.results.InsertOneResult at 0x7faf55b2ac40>"
      ]
     },
     "execution_count": 16,
     "metadata": {},
     "output_type": "execute_result"
    }
   ],
   "source": [
    "products.insert_one({'_id': 12, 'name': 'mouse', 'qty': 20, 'type': 'it'})"
   ]
  },
  {
   "cell_type": "markdown",
   "id": "68e87759",
   "metadata": {},
   "source": [
    "Let's check whether it works or not!"
   ]
  },
  {
   "cell_type": "code",
   "execution_count": 17,
   "id": "a3fa8f51",
   "metadata": {},
   "outputs": [
    {
     "name": "stdout",
     "output_type": "stream",
     "text": [
      "{'_id': 12, 'name': 'mouse', 'qty': 20, 'type': 'it'}\n"
     ]
    }
   ],
   "source": [
    "data = products.find_one({'_id': 12})\n",
    "pprint(data)"
   ]
  },
  {
   "cell_type": "markdown",
   "id": "672a1b7d",
   "metadata": {},
   "source": [
    "We can also insert multiple documents at once using the `insert_many` function."
   ]
  },
  {
   "cell_type": "code",
   "execution_count": 19,
   "id": "6c7cc952",
   "metadata": {},
   "outputs": [
    {
     "name": "stdout",
     "output_type": "stream",
     "text": [
      "[{'_id': ObjectId('63fd894717191eaefaf3be4f'),\n",
      "  'name': 'apple',\n",
      "  'qty': 15,\n",
      "  'type': 'fruit'},\n",
      " {'_id': ObjectId('63fd89db17191eaefaf3be50'),\n",
      "  'name': 'orange',\n",
      "  'price': 8,\n",
      "  'qty': 13,\n",
      "  'type': 'fruit'},\n",
      " {'_id': 10, 'name': 'hard disk', 'qty': 10, 'type': 'it'},\n",
      " {'_id': ObjectId('63fd8bd517191eaefaf3be51'),\n",
      "  'name': 'pear',\n",
      "  'qty': 20,\n",
      "  'type': 'fruit'},\n",
      " {'_id': ObjectId('63fd8bd517191eaefaf3be52'),\n",
      "  'name': 'watermelon',\n",
      "  'qty': 100,\n",
      "  'type': 'fruit'},\n",
      " {'_id': ObjectId('63fd90ad533c273c4e752e39'), 'name': 'mango', 'qty': 100},\n",
      " {'_id': 12, 'name': 'mouse', 'qty': 20, 'type': 'it'},\n",
      " {'_id': 200, 'name': 'something 1', 'qty': 500, 'type': 'unknown'},\n",
      " {'_id': 201, 'name': 'something 2', 'qty': 500, 'type': 'unknown'},\n",
      " {'_id': 202, 'name': 'something 3', 'qty': 500, 'type': 'unknown'},\n",
      " {'_id': 203, 'name': 'something 4', 'qty': 500, 'type': 'unknown'},\n",
      " {'_id': 204, 'name': 'something 5', 'qty': 500, 'type': 'unknown'}]\n"
     ]
    }
   ],
   "source": [
    "products.insert_many([\n",
    "    {'_id': 200, 'name': 'something 1', 'qty': 500, 'type': 'unknown'},\n",
    "    {'_id': 201, 'name': 'something 2', 'qty': 500, 'type': 'unknown'},\n",
    "    {'_id': 202, 'name': 'something 3', 'qty': 500, 'type': 'unknown'},\n",
    "    {'_id': 203, 'name': 'something 4', 'qty': 500, 'type': 'unknown'},\n",
    "    {'_id': 204, 'name': 'something 5', 'qty': 500, 'type': 'unknown'}\n",
    "])\n",
    "\n",
    "data = list(products.find())\n",
    "pprint(data)"
   ]
  },
  {
   "cell_type": "markdown",
   "id": "699e35a7",
   "metadata": {},
   "source": [
    "We even can get a value of the specific field in a document. For example, we want to get **the quantity of the product with ID 204**."
   ]
  },
  {
   "cell_type": "code",
   "execution_count": 22,
   "id": "a2cca011",
   "metadata": {},
   "outputs": [
    {
     "name": "stdout",
     "output_type": "stream",
     "text": [
      "500\n"
     ]
    }
   ],
   "source": [
    "data = products.find_one({'_id': 204})\n",
    "qty = data['qty']\n",
    "pprint(qty)"
   ]
  },
  {
   "cell_type": "markdown",
   "id": "22c2f506",
   "metadata": {},
   "source": [
    "Let's try to update the quantity of product 204 with `qty + 1000`.\n",
    "\n",
    "<i>Note that the `update_one` function will update the first match only.</i>"
   ]
  },
  {
   "cell_type": "code",
   "execution_count": 23,
   "id": "04ba4d2d",
   "metadata": {
    "scrolled": true
   },
   "outputs": [
    {
     "name": "stdout",
     "output_type": "stream",
     "text": [
      "{'_id': 204, 'name': 'something 5', 'qty': 1500, 'type': 'unknown'}\n"
     ]
    }
   ],
   "source": [
    "products.update_one({'_id': 204}, {'$set': {'qty': qty + 1000}})\n",
    "data = products.find_one({'_id': 204})\n",
    "pprint(data)"
   ]
  },
  {
   "cell_type": "markdown",
   "id": "1fe40e5c",
   "metadata": {},
   "source": [
    "With the `update_many` function, we can update multiple documents at once. For example, we change type \"unknown\" to \"UNKNOWN\"."
   ]
  },
  {
   "cell_type": "code",
   "execution_count": 24,
   "id": "65df09c9",
   "metadata": {
    "scrolled": true
   },
   "outputs": [
    {
     "name": "stdout",
     "output_type": "stream",
     "text": [
      "[{'_id': ObjectId('63fd894717191eaefaf3be4f'),\n",
      "  'name': 'apple',\n",
      "  'qty': 15,\n",
      "  'type': 'fruit'},\n",
      " {'_id': ObjectId('63fd89db17191eaefaf3be50'),\n",
      "  'name': 'orange',\n",
      "  'price': 8,\n",
      "  'qty': 13,\n",
      "  'type': 'fruit'},\n",
      " {'_id': 10, 'name': 'hard disk', 'qty': 10, 'type': 'it'},\n",
      " {'_id': ObjectId('63fd8bd517191eaefaf3be51'),\n",
      "  'name': 'pear',\n",
      "  'qty': 20,\n",
      "  'type': 'fruit'},\n",
      " {'_id': ObjectId('63fd8bd517191eaefaf3be52'),\n",
      "  'name': 'watermelon',\n",
      "  'qty': 100,\n",
      "  'type': 'fruit'},\n",
      " {'_id': ObjectId('63fd90ad533c273c4e752e39'), 'name': 'mango', 'qty': 100},\n",
      " {'_id': 12, 'name': 'mouse', 'qty': 20, 'type': 'it'},\n",
      " {'_id': 200, 'name': 'something 1', 'qty': 500, 'type': 'UNKNOWN'},\n",
      " {'_id': 201, 'name': 'something 2', 'qty': 500, 'type': 'UNKNOWN'},\n",
      " {'_id': 202, 'name': 'something 3', 'qty': 500, 'type': 'UNKNOWN'},\n",
      " {'_id': 203, 'name': 'something 4', 'qty': 500, 'type': 'UNKNOWN'},\n",
      " {'_id': 204, 'name': 'something 5', 'qty': 1500, 'type': 'UNKNOWN'}]\n"
     ]
    }
   ],
   "source": [
    "products.update_many({'type': 'unknown'}, {'$set':{'type':'UNKNOWN'}})\n",
    "data = list(products.find())\n",
    "pprint(data)"
   ]
  },
  {
   "cell_type": "markdown",
   "id": "457619f4",
   "metadata": {},
   "source": [
    "To delete documents, we use the `delete_one` or `delete_many` functions.\n",
    "\n",
    "<i>Same situation as `update_one`, the `delete_one` function takes effect on the first match only.</i>"
   ]
  },
  {
   "cell_type": "code",
   "execution_count": 25,
   "id": "088b7f6e",
   "metadata": {},
   "outputs": [
    {
     "name": "stdout",
     "output_type": "stream",
     "text": [
      "[{'_id': ObjectId('63fd894717191eaefaf3be4f'),\n",
      "  'name': 'apple',\n",
      "  'qty': 15,\n",
      "  'type': 'fruit'},\n",
      " {'_id': ObjectId('63fd89db17191eaefaf3be50'),\n",
      "  'name': 'orange',\n",
      "  'price': 8,\n",
      "  'qty': 13,\n",
      "  'type': 'fruit'},\n",
      " {'_id': 10, 'name': 'hard disk', 'qty': 10, 'type': 'it'},\n",
      " {'_id': ObjectId('63fd8bd517191eaefaf3be51'),\n",
      "  'name': 'pear',\n",
      "  'qty': 20,\n",
      "  'type': 'fruit'},\n",
      " {'_id': ObjectId('63fd8bd517191eaefaf3be52'),\n",
      "  'name': 'watermelon',\n",
      "  'qty': 100,\n",
      "  'type': 'fruit'},\n",
      " {'_id': ObjectId('63fd90ad533c273c4e752e39'), 'name': 'mango', 'qty': 100},\n",
      " {'_id': 12, 'name': 'mouse', 'qty': 20, 'type': 'it'},\n",
      " {'_id': 201, 'name': 'something 2', 'qty': 500, 'type': 'UNKNOWN'},\n",
      " {'_id': 202, 'name': 'something 3', 'qty': 500, 'type': 'UNKNOWN'},\n",
      " {'_id': 203, 'name': 'something 4', 'qty': 500, 'type': 'UNKNOWN'},\n",
      " {'_id': 204, 'name': 'something 5', 'qty': 1500, 'type': 'UNKNOWN'}]\n"
     ]
    }
   ],
   "source": [
    "products.delete_one({'type': 'UNKNOWN'})\n",
    "data = list(products.find())\n",
    "pprint(data)"
   ]
  },
  {
   "cell_type": "markdown",
   "id": "b649218f",
   "metadata": {},
   "source": [
    "To delete all products with \"UNKNOWN\" type, we should use the `delete_many` function instead."
   ]
  },
  {
   "cell_type": "code",
   "execution_count": 26,
   "id": "fc8f2730",
   "metadata": {},
   "outputs": [
    {
     "name": "stdout",
     "output_type": "stream",
     "text": [
      "[{'_id': ObjectId('63fd894717191eaefaf3be4f'),\n",
      "  'name': 'apple',\n",
      "  'qty': 15,\n",
      "  'type': 'fruit'},\n",
      " {'_id': ObjectId('63fd89db17191eaefaf3be50'),\n",
      "  'name': 'orange',\n",
      "  'price': 8,\n",
      "  'qty': 13,\n",
      "  'type': 'fruit'},\n",
      " {'_id': 10, 'name': 'hard disk', 'qty': 10, 'type': 'it'},\n",
      " {'_id': ObjectId('63fd8bd517191eaefaf3be51'),\n",
      "  'name': 'pear',\n",
      "  'qty': 20,\n",
      "  'type': 'fruit'},\n",
      " {'_id': ObjectId('63fd8bd517191eaefaf3be52'),\n",
      "  'name': 'watermelon',\n",
      "  'qty': 100,\n",
      "  'type': 'fruit'},\n",
      " {'_id': ObjectId('63fd90ad533c273c4e752e39'), 'name': 'mango', 'qty': 100},\n",
      " {'_id': 12, 'name': 'mouse', 'qty': 20, 'type': 'it'}]\n"
     ]
    }
   ],
   "source": [
    "products.delete_many({'type':'UNKNOWN'})\n",
    "data = list(products.find())\n",
    "pprint(data)"
   ]
  },
  {
   "cell_type": "markdown",
   "id": "7afdbb9a",
   "metadata": {},
   "source": [
    "## Importing Data\n",
    "\n",
    "In the previous section, we inserted documents manually. Of course, we may store a lot of data in data files and want to import them into MongoDB. We are going to learn how to import the data from a text file using the Python code."
   ]
  },
  {
   "cell_type": "markdown",
   "id": "0b744b63",
   "metadata": {},
   "source": [
    "Let's download the data file named `annual-enterprise-survey-2021-financial-year-provisional-csv.txt` and store it in the comp7095 folder on the desktop."
   ]
  },
  {
   "cell_type": "markdown",
   "id": "858c3d75",
   "metadata": {},
   "source": [
    "The data file is originally from Stats NZ Tatauranga Aotearoa. \n",
    "\n",
    "https://stats.govt.nz/assets/Uploads/Annual-enterprise-survey/Annual-enterprise-survey-2021-financial-year-provisional/Download-data/annual-enterprise-survey-2021-financial-year-provisional-csv.csv\n",
    "\n",
    "To simplify the Python code for loading the data from the data file, the content of the data file is pre-processed using Microsoft Excel. The changes include:\n",
    "1. Removed the comma from column `Value`.\n",
    "2. Saved the file in Tab Delimited Text format (`.txt`)."
   ]
  },
  {
   "cell_type": "markdown",
   "id": "8e7e2183",
   "metadata": {},
   "source": [
    "First, we use the `open` function to open the data file in `read-only` mode."
   ]
  },
  {
   "cell_type": "code",
   "execution_count": 27,
   "id": "9c98f2fd",
   "metadata": {},
   "outputs": [],
   "source": [
    "file = open('annual-enterprise-survey-2021-financial-year-provisional-csv.txt', 'r')"
   ]
  },
  {
   "cell_type": "markdown",
   "id": "b8961a31",
   "metadata": {},
   "source": [
    "#### Process the Heading Line\n",
    "The first line in the data file is a heading line. We use the `readline` function to read it and name it `headings`."
   ]
  },
  {
   "cell_type": "code",
   "execution_count": 28,
   "id": "426ebb49",
   "metadata": {},
   "outputs": [],
   "source": [
    "headings = file.readline()"
   ]
  },
  {
   "cell_type": "markdown",
   "id": "a5ab38cb",
   "metadata": {},
   "source": [
    "Let's see what we get from the file! The line contains the headings separated by a tab (`\\t`) and ends with a newline character (`\\n`)."
   ]
  },
  {
   "cell_type": "code",
   "execution_count": 29,
   "id": "13c1da2a",
   "metadata": {},
   "outputs": [
    {
     "data": {
      "text/plain": [
       "'Year\\tIndustry_aggregation_NZSIOC\\tIndustry_code_NZSIOC\\tIndustry_name_NZSIOC\\tUnits\\tVariable_code\\tVariable_name\\tVariable_category\\tValue\\tIndustry_code_ANZSIC06\\n'"
      ]
     },
     "execution_count": 29,
     "metadata": {},
     "output_type": "execute_result"
    }
   ],
   "source": [
    "headings"
   ]
  },
  {
   "cell_type": "markdown",
   "id": "b91707ed",
   "metadata": {},
   "source": [
    "We delete the `\\n` and split the line using the `\\t`. So, we have a list that contains the headings. Then, `headings` now refers to a list of the headings."
   ]
  },
  {
   "cell_type": "code",
   "execution_count": 30,
   "id": "a1f2c0bd",
   "metadata": {},
   "outputs": [
    {
     "data": {
      "text/plain": [
       "['Year',\n",
       " 'Industry_aggregation_NZSIOC',\n",
       " 'Industry_code_NZSIOC',\n",
       " 'Industry_name_NZSIOC',\n",
       " 'Units',\n",
       " 'Variable_code',\n",
       " 'Variable_name',\n",
       " 'Variable_category',\n",
       " 'Value',\n",
       " 'Industry_code_ANZSIC06']"
      ]
     },
     "execution_count": 30,
     "metadata": {},
     "output_type": "execute_result"
    }
   ],
   "source": [
    "headings = headings.replace('\\n', '').split('\\t')\n",
    "headings"
   ]
  },
  {
   "cell_type": "markdown",
   "id": "35a9cf6f",
   "metadata": {},
   "source": [
    "#### Process the Data Lines\n",
    "Next, we do the same thing for the data part. The procedure is that:\n",
    "1. create an empty list and a counter."
   ]
  },
  {
   "cell_type": "code",
   "execution_count": 31,
   "id": "0cdbafde",
   "metadata": {},
   "outputs": [],
   "source": [
    "temp = []\n",
    "count = 0"
   ]
  },
  {
   "cell_type": "markdown",
   "id": "565d927f",
   "metadata": {},
   "source": [
    "2. Read all remaining lines from the file and name it `lines`. After that we close the file."
   ]
  },
  {
   "cell_type": "code",
   "execution_count": 32,
   "id": "602dc589",
   "metadata": {},
   "outputs": [],
   "source": [
    "lines = file.readlines()\n",
    "file.close()"
   ]
  },
  {
   "cell_type": "markdown",
   "id": "28b3f64f",
   "metadata": {},
   "source": [
    "3. Repeatedly do the following for each line:\n",
    " 1. Get a line from the list, delete the `\\n` and split it using `\\t`. \n",
    " 1. Create a new dictionary. \n",
    " 1. Increate the count by 1 and store it in the dictionary as an ID of the document we are going to create. \n",
    " 1. Use a for loop to put the values with corresponding headings to the dictionary. \n",
    " 1. Put the dictionary to the list. "
   ]
  },
  {
   "cell_type": "code",
   "execution_count": 34,
   "id": "836cc8a3",
   "metadata": {},
   "outputs": [],
   "source": [
    "for line in lines:\n",
    "    values = line.replace('\\n', '').split('\\t')\n",
    "    doc = {}\n",
    "    count += 1\n",
    "    doc['_id'] = count\n",
    "    for i in range(len(headings)):\n",
    "        doc[headings[i]] = values[i]\n",
    "    temp.append(doc)"
   ]
  },
  {
   "cell_type": "markdown",
   "id": "e87353b9",
   "metadata": {},
   "source": [
    "4. We get a collection named `companies`. To guarantee it is empty, we call its `delete_many` function to delete everything."
   ]
  },
  {
   "cell_type": "code",
   "execution_count": 35,
   "id": "d40f9455",
   "metadata": {},
   "outputs": [
    {
     "data": {
      "text/plain": [
       "<pymongo.results.DeleteResult at 0x7faf535954f0>"
      ]
     },
     "execution_count": 35,
     "metadata": {},
     "output_type": "execute_result"
    }
   ],
   "source": [
    "companies = db['companies']\n",
    "companies.delete_many({})"
   ]
  },
  {
   "cell_type": "markdown",
   "id": "1f4e919b",
   "metadata": {},
   "source": [
    "5. Call the `insert_many` function with the list to create documents in MongoDB."
   ]
  },
  {
   "cell_type": "code",
   "execution_count": 36,
   "id": "d49a84c3",
   "metadata": {},
   "outputs": [
    {
     "data": {
      "text/plain": [
       "<pymongo.results.InsertManyResult at 0x7faf55cc6eb0>"
      ]
     },
     "execution_count": 36,
     "metadata": {},
     "output_type": "execute_result"
    }
   ],
   "source": [
    "companies.insert_many(temp)"
   ]
  },
  {
   "cell_type": "markdown",
   "id": "bfaf26cc",
   "metadata": {},
   "source": [
    "6. Verify the insertion by getting the first 5 documents using the `find` function and `limit` function."
   ]
  },
  {
   "cell_type": "code",
   "execution_count": 37,
   "id": "ad792e7e",
   "metadata": {},
   "outputs": [
    {
     "name": "stdout",
     "output_type": "stream",
     "text": [
      "[{'Industry_aggregation_NZSIOC': 'Level 1',\n",
      "  'Industry_code_ANZSIC06': '\"ANZSIC06 divisions A-S (excluding classes K6330, '\n",
      "                            'L6711, O7552, O760, O771, O772, S9540, S9601, '\n",
      "                            'S9602, and S9603)\"',\n",
      "  'Industry_code_NZSIOC': '99999',\n",
      "  'Industry_name_NZSIOC': 'All industries',\n",
      "  'Units': 'Dollars (millions)',\n",
      "  'Value': '757504',\n",
      "  'Variable_category': 'Financial performance',\n",
      "  'Variable_code': 'H01',\n",
      "  'Variable_name': 'Total income',\n",
      "  'Year': '2021',\n",
      "  '_id': 1},\n",
      " {'Industry_aggregation_NZSIOC': 'Level 1',\n",
      "  'Industry_code_ANZSIC06': '\"ANZSIC06 divisions A-S (excluding classes K6330, '\n",
      "                            'L6711, O7552, O760, O771, O772, S9540, S9601, '\n",
      "                            'S9602, and S9603)\"',\n",
      "  'Industry_code_NZSIOC': '99999',\n",
      "  'Industry_name_NZSIOC': 'All industries',\n",
      "  'Units': 'Dollars (millions)',\n",
      "  'Value': '674890',\n",
      "  'Variable_category': 'Financial performance',\n",
      "  'Variable_code': 'H04',\n",
      "  'Variable_name': '\"Sales, government funding, grants and subsidies\"',\n",
      "  'Year': '2021',\n",
      "  '_id': 2},\n",
      " {'Industry_aggregation_NZSIOC': 'Level 1',\n",
      "  'Industry_code_ANZSIC06': '\"ANZSIC06 divisions A-S (excluding classes K6330, '\n",
      "                            'L6711, O7552, O760, O771, O772, S9540, S9601, '\n",
      "                            'S9602, and S9603)\"',\n",
      "  'Industry_code_NZSIOC': '99999',\n",
      "  'Industry_name_NZSIOC': 'All industries',\n",
      "  'Units': 'Dollars (millions)',\n",
      "  'Value': '49593',\n",
      "  'Variable_category': 'Financial performance',\n",
      "  'Variable_code': 'H05',\n",
      "  'Variable_name': '\"Interest, dividends and donations\"',\n",
      "  'Year': '2021',\n",
      "  '_id': 3},\n",
      " {'Industry_aggregation_NZSIOC': 'Level 1',\n",
      "  'Industry_code_ANZSIC06': '\"ANZSIC06 divisions A-S (excluding classes K6330, '\n",
      "                            'L6711, O7552, O760, O771, O772, S9540, S9601, '\n",
      "                            'S9602, and S9603)\"',\n",
      "  'Industry_code_NZSIOC': '99999',\n",
      "  'Industry_name_NZSIOC': 'All industries',\n",
      "  'Units': 'Dollars (millions)',\n",
      "  'Value': '33020',\n",
      "  'Variable_category': 'Financial performance',\n",
      "  'Variable_code': 'H07',\n",
      "  'Variable_name': 'Non-operating income',\n",
      "  'Year': '2021',\n",
      "  '_id': 4},\n",
      " {'Industry_aggregation_NZSIOC': 'Level 1',\n",
      "  'Industry_code_ANZSIC06': '\"ANZSIC06 divisions A-S (excluding classes K6330, '\n",
      "                            'L6711, O7552, O760, O771, O772, S9540, S9601, '\n",
      "                            'S9602, and S9603)\"',\n",
      "  'Industry_code_NZSIOC': '99999',\n",
      "  'Industry_name_NZSIOC': 'All industries',\n",
      "  'Units': 'Dollars (millions)',\n",
      "  'Value': '654404',\n",
      "  'Variable_category': 'Financial performance',\n",
      "  'Variable_code': 'H08',\n",
      "  'Variable_name': 'Total expenditure',\n",
      "  'Year': '2021',\n",
      "  '_id': 5}]\n"
     ]
    }
   ],
   "source": [
    "data = list(companies.find().limit(5))\n",
    "pprint(data)"
   ]
  },
  {
   "cell_type": "markdown",
   "id": "d7cb7af2",
   "metadata": {},
   "source": [
    "7. By default, the data type of each field is string. We need to convert the `Value` field to integer. We use a for loop to retrieve every document and use the `update_one` function to update the value of the `Value` field."
   ]
  },
  {
   "cell_type": "code",
   "execution_count": 38,
   "id": "8e4535c2",
   "metadata": {
    "scrolled": true
   },
   "outputs": [],
   "source": [
    "for d in data:\n",
    "    id = d['_id']\n",
    "    try:\n",
    "        value = int(d['Value'])\n",
    "    except:\n",
    "        value = 0      ## We set the value to zero if the value cannot be converted to an integer.\n",
    "        \n",
    "    companies.update_one({'_id':id}, {'$set':{'Value':value}})\n",
    "    "
   ]
  },
  {
   "cell_type": "markdown",
   "id": "6246cb5a",
   "metadata": {},
   "source": [
    "Done! Let's see what we have!"
   ]
  },
  {
   "cell_type": "code",
   "execution_count": 39,
   "id": "4b895421",
   "metadata": {},
   "outputs": [
    {
     "name": "stdout",
     "output_type": "stream",
     "text": [
      "[{'Industry_aggregation_NZSIOC': 'Level 1',\n",
      "  'Industry_code_ANZSIC06': '\"ANZSIC06 divisions A-S (excluding classes K6330, '\n",
      "                            'L6711, O7552, O760, O771, O772, S9540, S9601, '\n",
      "                            'S9602, and S9603)\"',\n",
      "  'Industry_code_NZSIOC': '99999',\n",
      "  'Industry_name_NZSIOC': 'All industries',\n",
      "  'Units': 'Dollars (millions)',\n",
      "  'Value': 757504,\n",
      "  'Variable_category': 'Financial performance',\n",
      "  'Variable_code': 'H01',\n",
      "  'Variable_name': 'Total income',\n",
      "  'Year': '2021',\n",
      "  '_id': 1},\n",
      " {'Industry_aggregation_NZSIOC': 'Level 1',\n",
      "  'Industry_code_ANZSIC06': '\"ANZSIC06 divisions A-S (excluding classes K6330, '\n",
      "                            'L6711, O7552, O760, O771, O772, S9540, S9601, '\n",
      "                            'S9602, and S9603)\"',\n",
      "  'Industry_code_NZSIOC': '99999',\n",
      "  'Industry_name_NZSIOC': 'All industries',\n",
      "  'Units': 'Dollars (millions)',\n",
      "  'Value': 674890,\n",
      "  'Variable_category': 'Financial performance',\n",
      "  'Variable_code': 'H04',\n",
      "  'Variable_name': '\"Sales, government funding, grants and subsidies\"',\n",
      "  'Year': '2021',\n",
      "  '_id': 2},\n",
      " {'Industry_aggregation_NZSIOC': 'Level 1',\n",
      "  'Industry_code_ANZSIC06': '\"ANZSIC06 divisions A-S (excluding classes K6330, '\n",
      "                            'L6711, O7552, O760, O771, O772, S9540, S9601, '\n",
      "                            'S9602, and S9603)\"',\n",
      "  'Industry_code_NZSIOC': '99999',\n",
      "  'Industry_name_NZSIOC': 'All industries',\n",
      "  'Units': 'Dollars (millions)',\n",
      "  'Value': 49593,\n",
      "  'Variable_category': 'Financial performance',\n",
      "  'Variable_code': 'H05',\n",
      "  'Variable_name': '\"Interest, dividends and donations\"',\n",
      "  'Year': '2021',\n",
      "  '_id': 3},\n",
      " {'Industry_aggregation_NZSIOC': 'Level 1',\n",
      "  'Industry_code_ANZSIC06': '\"ANZSIC06 divisions A-S (excluding classes K6330, '\n",
      "                            'L6711, O7552, O760, O771, O772, S9540, S9601, '\n",
      "                            'S9602, and S9603)\"',\n",
      "  'Industry_code_NZSIOC': '99999',\n",
      "  'Industry_name_NZSIOC': 'All industries',\n",
      "  'Units': 'Dollars (millions)',\n",
      "  'Value': 33020,\n",
      "  'Variable_category': 'Financial performance',\n",
      "  'Variable_code': 'H07',\n",
      "  'Variable_name': 'Non-operating income',\n",
      "  'Year': '2021',\n",
      "  '_id': 4},\n",
      " {'Industry_aggregation_NZSIOC': 'Level 1',\n",
      "  'Industry_code_ANZSIC06': '\"ANZSIC06 divisions A-S (excluding classes K6330, '\n",
      "                            'L6711, O7552, O760, O771, O772, S9540, S9601, '\n",
      "                            'S9602, and S9603)\"',\n",
      "  'Industry_code_NZSIOC': '99999',\n",
      "  'Industry_name_NZSIOC': 'All industries',\n",
      "  'Units': 'Dollars (millions)',\n",
      "  'Value': 654404,\n",
      "  'Variable_category': 'Financial performance',\n",
      "  'Variable_code': 'H08',\n",
      "  'Variable_name': 'Total expenditure',\n",
      "  'Year': '2021',\n",
      "  '_id': 5}]\n"
     ]
    }
   ],
   "source": [
    "data = list(companies.find().limit(5))\n",
    "pprint(data)"
   ]
  },
  {
   "cell_type": "markdown",
   "id": "0f86d128",
   "metadata": {},
   "source": [
    "We can use the comparison keywords to filter the documents, just like what we learnt about `mongosh`."
   ]
  },
  {
   "cell_type": "code",
   "execution_count": 42,
   "id": "9414aa12",
   "metadata": {},
   "outputs": [
    {
     "name": "stdout",
     "output_type": "stream",
     "text": [
      "[{'Industry_aggregation_NZSIOC': 'Level 1',\n",
      "  'Industry_code_ANZSIC06': '\"ANZSIC06 divisions A-S (excluding classes K6330, '\n",
      "                            'L6711, O7552, O760, O771, O772, S9540, S9601, '\n",
      "                            'S9602, and S9603)\"',\n",
      "  'Industry_code_NZSIOC': '99999',\n",
      "  'Industry_name_NZSIOC': 'All industries',\n",
      "  'Units': 'Dollars (millions)',\n",
      "  'Value': 757504,\n",
      "  'Variable_category': 'Financial performance',\n",
      "  'Variable_code': 'H01',\n",
      "  'Variable_name': 'Total income',\n",
      "  'Year': '2021',\n",
      "  '_id': 1},\n",
      " {'Industry_aggregation_NZSIOC': 'Level 1',\n",
      "  'Industry_code_ANZSIC06': '\"ANZSIC06 divisions A-S (excluding classes K6330, '\n",
      "                            'L6711, O7552, O760, O771, O772, S9540, S9601, '\n",
      "                            'S9602, and S9603)\"',\n",
      "  'Industry_code_NZSIOC': '99999',\n",
      "  'Industry_name_NZSIOC': 'All industries',\n",
      "  'Units': 'Dollars (millions)',\n",
      "  'Value': 674890,\n",
      "  'Variable_category': 'Financial performance',\n",
      "  'Variable_code': 'H04',\n",
      "  'Variable_name': '\"Sales, government funding, grants and subsidies\"',\n",
      "  'Year': '2021',\n",
      "  '_id': 2},\n",
      " {'Industry_aggregation_NZSIOC': 'Level 1',\n",
      "  'Industry_code_ANZSIC06': '\"ANZSIC06 divisions A-S (excluding classes K6330, '\n",
      "                            'L6711, O7552, O760, O771, O772, S9540, S9601, '\n",
      "                            'S9602, and S9603)\"',\n",
      "  'Industry_code_NZSIOC': '99999',\n",
      "  'Industry_name_NZSIOC': 'All industries',\n",
      "  'Units': 'Dollars (millions)',\n",
      "  'Value': 654404,\n",
      "  'Variable_category': 'Financial performance',\n",
      "  'Variable_code': 'H08',\n",
      "  'Variable_name': 'Total expenditure',\n",
      "  'Year': '2021',\n",
      "  '_id': 5}]\n"
     ]
    }
   ],
   "source": [
    "data = list(companies.find({'Value':{'$gt': 100000}}).limit(5))\n",
    "pprint(data)"
   ]
  },
  {
   "cell_type": "markdown",
   "id": "f8ee9f74",
   "metadata": {},
   "source": [
    "We can also sort the output by using the `sort` function."
   ]
  },
  {
   "cell_type": "code",
   "execution_count": 41,
   "id": "9c6853db",
   "metadata": {},
   "outputs": [
    {
     "name": "stdout",
     "output_type": "stream",
     "text": [
      "[]\n"
     ]
    }
   ],
   "source": [
    "data = list(companies.find({'Value':{'$lte': -1000}}).sort('Value', -1).limit(5))\n",
    "pprint(data)"
   ]
  },
  {
   "cell_type": "markdown",
   "id": "90098ae1",
   "metadata": {},
   "source": [
    "## Aggregate\n",
    "\n",
    "In Python, PyMongo package provides the `aggregate` function, similar to the `aggregate` function of `mongosh`. But, the argument of the `aggregate` function must be a list of dictionaries.\n",
    "\n",
    "Let's see the following example. We use the `aggregate` function to get the count of the documents in the `companies` collection:"
   ]
  },
  {
   "cell_type": "code",
   "execution_count": 43,
   "id": "524f965b",
   "metadata": {},
   "outputs": [
    {
     "name": "stdout",
     "output_type": "stream",
     "text": [
      "[{'_id': '', 'count(*)': 41715}]\n"
     ]
    }
   ],
   "source": [
    "data = list(companies.aggregate([{'$group':{'_id':'', 'count(*)':{'$sum':1}}}]))\n",
    "pprint(data)"
   ]
  },
  {
   "cell_type": "markdown",
   "id": "69cd0698",
   "metadata": {},
   "source": [
    "You can think the code above as `SELECT count(*) FROM companies`."
   ]
  },
  {
   "cell_type": "markdown",
   "id": "a25422dd",
   "metadata": {},
   "source": [
    "The following example shows how to retrieve the document counts of each year. You can think it as `SELECT Years, count(*) FROM companies GROUP BY Years`."
   ]
  },
  {
   "cell_type": "code",
   "execution_count": 44,
   "id": "142a307d",
   "metadata": {},
   "outputs": [
    {
     "name": "stdout",
     "output_type": "stream",
     "text": [
      "[{'_id': '2020', 'count': 4635},\n",
      " {'_id': '2015', 'count': 4635},\n",
      " {'_id': '2019', 'count': 4635},\n",
      " {'_id': '2018', 'count': 4635},\n",
      " {'_id': '2014', 'count': 4635},\n",
      " {'_id': '2013', 'count': 4635},\n",
      " {'_id': '2021', 'count': 4635},\n",
      " {'_id': '2017', 'count': 4635},\n",
      " {'_id': '2016', 'count': 4635}]\n"
     ]
    }
   ],
   "source": [
    "data = list(companies.aggregate([{'$group':{'_id':'$Year', 'count':{'$sum':1}}}]))\n",
    "pprint(data)"
   ]
  },
  {
   "cell_type": "markdown",
   "id": "8e6d1543",
   "metadata": {},
   "source": [
    "In the following example, we add one more dictionary to sort the output by `_id` in descending order."
   ]
  },
  {
   "cell_type": "code",
   "execution_count": 45,
   "id": "aa104580",
   "metadata": {},
   "outputs": [
    {
     "name": "stdout",
     "output_type": "stream",
     "text": [
      "[{'_id': '2021', 'count': 4635},\n",
      " {'_id': '2020', 'count': 4635},\n",
      " {'_id': '2019', 'count': 4635},\n",
      " {'_id': '2018', 'count': 4635},\n",
      " {'_id': '2017', 'count': 4635},\n",
      " {'_id': '2016', 'count': 4635},\n",
      " {'_id': '2015', 'count': 4635},\n",
      " {'_id': '2014', 'count': 4635},\n",
      " {'_id': '2013', 'count': 4635}]\n"
     ]
    }
   ],
   "source": [
    "data = list(companies.aggregate([{'$group':{'_id':'$Year', 'count':{'$sum':1}}}, {'$sort': {'_id': -1}}]))\n",
    "pprint(data)"
   ]
  },
  {
   "cell_type": "markdown",
   "id": "e9c827b5",
   "metadata": {},
   "source": [
    "You can also try other aggregates:\n",
    "\n",
    "\n",
    "|Aggregate||Description|\n",
    "|---|---|---|\n",
    "|\\$sum||Calculate the total|\n",
    "|\\$avg||Find the average|\n",
    "|\\$min||Find the minimum value|\n",
    "|\\$max||Find the maximum value|\n",
    "|\\$push||Add the value to a list, duplicates are allowed|\n",
    "|\\$addToSet||Add the value to a set, duplicates will not be added|\n",
    "|\\$first||Find the first match only|\n",
    "|\\$last||Find the last match only|\n"
   ]
  },
  {
   "cell_type": "markdown",
   "id": "08fc4c7e",
   "metadata": {},
   "source": [
    "## Exporting to JSON file\n",
    "\n",
    "Since the documents are represented as a list of the dictionaries in Python, we can convert them to JSON format and save the result to a data file. The following is the procedure to do so."
   ]
  },
  {
   "cell_type": "markdown",
   "id": "6b5fa097",
   "metadata": {},
   "source": [
    "First, we retrieve all documents from the collection."
   ]
  },
  {
   "cell_type": "code",
   "execution_count": 46,
   "id": "31e7a663",
   "metadata": {},
   "outputs": [],
   "source": [
    "data = list(companies.find())"
   ]
  },
  {
   "cell_type": "markdown",
   "id": "04899dbe",
   "metadata": {},
   "source": [
    "We use the `dumps` function provided by JSON package to convert the list of the documents to a JSON-String."
   ]
  },
  {
   "cell_type": "code",
   "execution_count": 47,
   "id": "824db960",
   "metadata": {},
   "outputs": [],
   "source": [
    "import json\n",
    "json_str = json.dumps(data)"
   ]
  },
  {
   "cell_type": "markdown",
   "id": "60c72db9",
   "metadata": {},
   "source": [
    "Then, we open a file with the `write` mode and write the string to the file. "
   ]
  },
  {
   "cell_type": "code",
   "execution_count": 49,
   "id": "d11e2eaf",
   "metadata": {},
   "outputs": [],
   "source": [
    "fout = open('companies.json', 'w')\n",
    "fout.write(json_str)\n",
    "fout.close()"
   ]
  },
  {
   "cell_type": "markdown",
   "id": "8c36cf69",
   "metadata": {},
   "source": [
    "## Importing JSON file\n",
    "\n",
    "In the previous part, we learnt how to load the data from a text file in Tab Delimited Text format. Now, we are going to learn how to load the data from a JSON file."
   ]
  },
  {
   "cell_type": "markdown",
   "id": "2dc172db",
   "metadata": {},
   "source": [
    "Before loading the data into MongoDB, we ensure that collection `companies` is empty. Therefore, we can the `delete_many` function to delete all documents."
   ]
  },
  {
   "cell_type": "code",
   "execution_count": 50,
   "id": "2aa8d21f",
   "metadata": {},
   "outputs": [
    {
     "name": "stdout",
     "output_type": "stream",
     "text": [
      "[]\n"
     ]
    }
   ],
   "source": [
    "companies.delete_many({})\n",
    "data = list(companies.find())\n",
    "print(data)"
   ]
  },
  {
   "cell_type": "markdown",
   "id": "29735164",
   "metadata": {},
   "source": [
    "First, we open the data file from using the open function with the `read-only` mode ('r'), and load the line from the data file. Assume that the content contains a single line only. Hint, you may use readline() to read this line."
   ]
  },
  {
   "cell_type": "markdown",
   "id": "730a0c63",
   "metadata": {},
   "source": [
    "### Task 1: Open (\"companies.json\") file in correct mode"
   ]
  },
  {
   "cell_type": "code",
   "execution_count": 57,
   "id": "53dd1df9",
   "metadata": {},
   "outputs": [],
   "source": [
    "file = open('companies.json', 'r')"
   ]
  },
  {
   "cell_type": "code",
   "execution_count": 58,
   "id": "1d340fdf",
   "metadata": {},
   "outputs": [],
   "source": [
    "json_str = file.readline()"
   ]
  },
  {
   "cell_type": "markdown",
   "id": "39edc701",
   "metadata": {},
   "source": [
    "We then use the loads function provided by JSON package to convert the data from JSON-string format to a list."
   ]
  },
  {
   "cell_type": "code",
   "execution_count": 61,
   "id": "b90bd33d",
   "metadata": {},
   "outputs": [
    {
     "name": "stdout",
     "output_type": "stream",
     "text": [
      "<class 'str'> 16247321\n"
     ]
    }
   ],
   "source": [
    "print(type(json_str), len(json_str))"
   ]
  },
  {
   "cell_type": "code",
   "execution_count": 60,
   "id": "c86fbb6d",
   "metadata": {},
   "outputs": [],
   "source": [
    "import json\n",
    "data = json.loads(json_str)"
   ]
  },
  {
   "cell_type": "markdown",
   "id": "89e56e3f",
   "metadata": {},
   "source": [
    "Now, we can call the insert_many function to insert documents."
   ]
  },
  {
   "cell_type": "markdown",
   "id": "9ee9b66f",
   "metadata": {},
   "source": [
    "### Task 2: insert your data to companies "
   ]
  },
  {
   "cell_type": "code",
   "execution_count": 62,
   "id": "5647e959",
   "metadata": {},
   "outputs": [
    {
     "data": {
      "text/plain": [
       "<pymongo.results.InsertManyResult at 0x7faf3d352b50>"
      ]
     },
     "execution_count": 62,
     "metadata": {},
     "output_type": "execute_result"
    }
   ],
   "source": [
    "companies.insert_many(data)"
   ]
  },
  {
   "cell_type": "markdown",
   "id": "9c60b9ab",
   "metadata": {},
   "source": [
    "Let's check whether the collection contains the new documents or not."
   ]
  },
  {
   "cell_type": "markdown",
   "id": "01d69389",
   "metadata": {},
   "source": [
    "### Task 3: use find() method to check the contained data\n",
    "please display the first five results in your results"
   ]
  },
  {
   "cell_type": "code",
   "execution_count": 64,
   "id": "850b0ac9",
   "metadata": {},
   "outputs": [
    {
     "data": {
      "text/plain": [
       "[{'_id': 1,\n",
       "  'Year': '2021',\n",
       "  'Industry_aggregation_NZSIOC': 'Level 1',\n",
       "  'Industry_code_NZSIOC': '99999',\n",
       "  'Industry_name_NZSIOC': 'All industries',\n",
       "  'Units': 'Dollars (millions)',\n",
       "  'Variable_code': 'H01',\n",
       "  'Variable_name': 'Total income',\n",
       "  'Variable_category': 'Financial performance',\n",
       "  'Value': 757504,\n",
       "  'Industry_code_ANZSIC06': '\"ANZSIC06 divisions A-S (excluding classes K6330, L6711, O7552, O760, O771, O772, S9540, S9601, S9602, and S9603)\"'},\n",
       " {'_id': 2,\n",
       "  'Year': '2021',\n",
       "  'Industry_aggregation_NZSIOC': 'Level 1',\n",
       "  'Industry_code_NZSIOC': '99999',\n",
       "  'Industry_name_NZSIOC': 'All industries',\n",
       "  'Units': 'Dollars (millions)',\n",
       "  'Variable_code': 'H04',\n",
       "  'Variable_name': '\"Sales, government funding, grants and subsidies\"',\n",
       "  'Variable_category': 'Financial performance',\n",
       "  'Value': 674890,\n",
       "  'Industry_code_ANZSIC06': '\"ANZSIC06 divisions A-S (excluding classes K6330, L6711, O7552, O760, O771, O772, S9540, S9601, S9602, and S9603)\"'},\n",
       " {'_id': 3,\n",
       "  'Year': '2021',\n",
       "  'Industry_aggregation_NZSIOC': 'Level 1',\n",
       "  'Industry_code_NZSIOC': '99999',\n",
       "  'Industry_name_NZSIOC': 'All industries',\n",
       "  'Units': 'Dollars (millions)',\n",
       "  'Variable_code': 'H05',\n",
       "  'Variable_name': '\"Interest, dividends and donations\"',\n",
       "  'Variable_category': 'Financial performance',\n",
       "  'Value': 49593,\n",
       "  'Industry_code_ANZSIC06': '\"ANZSIC06 divisions A-S (excluding classes K6330, L6711, O7552, O760, O771, O772, S9540, S9601, S9602, and S9603)\"'},\n",
       " {'_id': 4,\n",
       "  'Year': '2021',\n",
       "  'Industry_aggregation_NZSIOC': 'Level 1',\n",
       "  'Industry_code_NZSIOC': '99999',\n",
       "  'Industry_name_NZSIOC': 'All industries',\n",
       "  'Units': 'Dollars (millions)',\n",
       "  'Variable_code': 'H07',\n",
       "  'Variable_name': 'Non-operating income',\n",
       "  'Variable_category': 'Financial performance',\n",
       "  'Value': 33020,\n",
       "  'Industry_code_ANZSIC06': '\"ANZSIC06 divisions A-S (excluding classes K6330, L6711, O7552, O760, O771, O772, S9540, S9601, S9602, and S9603)\"'},\n",
       " {'_id': 5,\n",
       "  'Year': '2021',\n",
       "  'Industry_aggregation_NZSIOC': 'Level 1',\n",
       "  'Industry_code_NZSIOC': '99999',\n",
       "  'Industry_name_NZSIOC': 'All industries',\n",
       "  'Units': 'Dollars (millions)',\n",
       "  'Variable_code': 'H08',\n",
       "  'Variable_name': 'Total expenditure',\n",
       "  'Variable_category': 'Financial performance',\n",
       "  'Value': 654404,\n",
       "  'Industry_code_ANZSIC06': '\"ANZSIC06 divisions A-S (excluding classes K6330, L6711, O7552, O760, O771, O772, S9540, S9601, S9602, and S9603)\"'}]"
      ]
     },
     "execution_count": 64,
     "metadata": {},
     "output_type": "execute_result"
    }
   ],
   "source": [
    "list(companies.find().limit(5))"
   ]
  }
 ],
 "metadata": {
  "kernelspec": {
   "display_name": "Python 3",
   "language": "python",
   "name": "python3"
  },
  "language_info": {
   "codemirror_mode": {
    "name": "ipython",
    "version": 3
   },
   "file_extension": ".py",
   "mimetype": "text/x-python",
   "name": "python",
   "nbconvert_exporter": "python",
   "pygments_lexer": "ipython3",
   "version": "3.8.3"
  }
 },
 "nbformat": 4,
 "nbformat_minor": 5
}
